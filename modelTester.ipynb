{
 "cells": [
  {
   "cell_type": "code",
   "execution_count": 1,
   "outputs": [],
   "source": [
    "%matplotlib inline\n",
    "import tensorflow as tf  # TF2\n",
    "import numpy as np\n",
    "import cv2\n",
    "from enum import Enum, auto, IntEnum\n",
    "\"\"\"\n",
    "# model data\n",
    "intercept = 0.01259579\n",
    "coef = np.array([ 0.01530813, -0.06361941,  0.01532825, -0.06312327,  0.03121793,\n",
    "       -0.06225985,  0.00515395, -0.06413127,  0.04194056, -0.07163045,\n",
    "        0.03679023, -0.05856963, -0.01321424, -0.05207514, -0.02547881,\n",
    "        0.06326243,  0.05637735,  0.10507915, -0.1572394 ,  0.19343185,\n",
    "        0.04664405,  0.21972535, -0.01213719, -0.00629819,  0.01213719,\n",
    "        0.00629819, -0.19922164,  0.07706092,  0.19035918,  0.12944567,\n",
    "       -0.25265423,  0.00517447,  0.22910392,  0.07066526])\n",
    "\n",
    "\"\"\"\n",
    "\n",
    "\n",
    "interpreter = tf.lite.Interpreter(\n",
    "    model_path=\"legwork.tflite\")\n",
    "interpreter.allocate_tensors()\n",
    "input_details = interpreter.get_input_details()\n",
    "output_details = interpreter.get_output_details()\n",
    "\n"
   ],
   "metadata": {
    "collapsed": false,
    "pycharm": {
     "name": "#%%\n"
    }
   }
  },
  {
   "cell_type": "code",
   "execution_count": 2,
   "outputs": [],
   "source": [
    "test_sample = np.load(\"./data/legwork/legwork.MOV.npy\")\n",
    "test_sample = test_sample.reshape((-1,34))"
   ],
   "metadata": {
    "collapsed": false,
    "pycharm": {
     "name": "#%%\n"
    }
   }
  },
  {
   "cell_type": "code",
   "execution_count": 5,
   "outputs": [],
   "source": [
    "estimated = []\n",
    "for pose in test_sample:\n",
    "    #result = np.exp(np.dot(pose, coef) + intercept)\n",
    "    #result = result/(1+result)\n",
    "    interpreter.set_tensor(input_details[0]['index'], pose.reshape(-1,34).astype(np.float32))\n",
    "    interpreter.invoke()\n",
    "    result = interpreter.get_tensor(output_details[0]['index'])\n",
    "    result = result[0,0]\n",
    "\n",
    "\n",
    "    estimated.append(result)"
   ],
   "metadata": {
    "collapsed": false,
    "pycharm": {
     "name": "#%%\n"
    }
   }
  },
  {
   "cell_type": "code",
   "execution_count": 4,
   "outputs": [],
   "source": [
    "state = 0\n",
    "count = 0\n",
    "upx = []\n",
    "upy = []\n",
    "downx = []\n",
    "downy = []\n",
    "\n",
    "filtered_estimated = []\n",
    "for idx in range(6, len(estimated)-3):\n",
    "    upCount = 0\n",
    "    downCount = 0\n",
    "    for j in range(idx-6, idx+1):\n",
    "        if estimated[j] > 0.80:\n",
    "            upCount+=1\n",
    "        elif estimated[j] < 0.20:\n",
    "            downCount+=1\n",
    "    if upCount>4:\n",
    "      filtered_estimated.append(1)\n",
    "    elif downCount>4:\n",
    "        filtered_estimated.append(0)\n",
    "    else:\n",
    "        filtered_estimated.append(estimated[idx])\n",
    "\n",
    "estimated = filtered_estimated\n",
    "\n",
    "\n",
    "last_up = 0\n",
    "last_down = 0\n",
    "mean_time_of_up_duration = -1\n",
    "mean_time_of_down_duration = -1\n",
    "\n",
    "for idx, esti in enumerate(estimated):\n",
    "    if state==0: # 시작\n",
    "        if esti > 0.80:\n",
    "            ########\n",
    "            last_up = idx\n",
    "            ########\n",
    "            upx.append(idx)\n",
    "            upy.append(esti)\n",
    "            #########\n",
    "            state = 1\n",
    "        elif esti < 0.20:\n",
    "            state = 0\n",
    "    elif state==1: # 서있는 상태\n",
    "        if esti < 0.20:\n",
    "            duration = idx - last_down\n",
    "            if mean_time_of_down_duration == -1:\n",
    "                mean_time_of_down_duration = duration\n",
    "            else:\n",
    "                if duration > mean_time_of_down_duration * 0.8:\n",
    "                    mean_time_of_down_duration = (mean_time_of_down_duration + (idx - last_down))/2\n",
    "                    last_down = idx\n",
    "                    #########\n",
    "                    downx.append(idx)\n",
    "                    downy.append(esti)\n",
    "                    #########\n",
    "                    state = 2\n",
    "\n",
    "        elif esti > 0.20:\n",
    "            state = 1\n",
    "    elif state==2: # 앉아있는 상태\n",
    "        if esti > 0.80:\n",
    "            duration = idx - last_up\n",
    "            if mean_time_of_up_duration == -1:\n",
    "                mean_time_of_up_duration = duration\n",
    "            else:\n",
    "                if duration > mean_time_of_up_duration * 0.8:\n",
    "                    mean_time_of_up_duration = (mean_time_of_up_duration + (idx - last_up))/2\n",
    "                    last_up = idx\n",
    "                    #########\n",
    "                    upx.append(idx)\n",
    "                    upy.append(esti)\n",
    "                    #########\n",
    "                    state = 1\n",
    "                    count += 1\n",
    "\n",
    "        elif esti < 0.80:\n",
    "            state = 2\n",
    "\n"
   ],
   "metadata": {
    "collapsed": false,
    "pycharm": {
     "name": "#%%\n"
    }
   }
  },
  {
   "cell_type": "code",
   "execution_count": 5,
   "outputs": [
    {
     "data": {
      "text/plain": "<Figure size 432x288 with 1 Axes>",
      "image/png": "[encoded data removed]"
     },
     "metadata": {
      "needs_background": "light"
     },
     "output_type": "display_data"
    }
   ],
   "source": [
    "import matplotlib.pyplot as plt\n",
    "plt.plot(estimated)\n",
    "plt.axhline(y=0.5, color='r', linewidth=1)\n",
    "plt.axhline(y=0.20, color='r', linewidth=1)\n",
    "plt.axhline(y=0.80, color='r', linewidth=1)\n",
    "plt.scatter(upx, upy,c='#bcbd22')\n",
    "plt.scatter(downx, downy,c='#d62728')\n",
    "\n",
    "plt.show()\n",
    "\n",
    "\n",
    "estimated = np.array(estimated)"
   ],
   "metadata": {
    "collapsed": false,
    "pycharm": {
     "name": "#%%\n"
    }
   }
  }
 ],
 "metadata": {
  "kernelspec": {
   "display_name": "Python 3",
   "language": "python",
   "name": "python3"
  },
  "language_info": {
   "codemirror_mode": {
    "name": "ipython",
    "version": 2
   },
   "file_extension": ".py",
   "mimetype": "text/x-python",
   "name": "python",
   "nbconvert_exporter": "python",
   "pygments_lexer": "ipython2",
   "version": "2.7.6"
  }
 },
 "nbformat": 4,
 "nbformat_minor": 0
}