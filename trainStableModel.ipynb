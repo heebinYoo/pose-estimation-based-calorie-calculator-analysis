{
 "cells": [
  {
   "cell_type": "code",
   "execution_count": 23,
   "metadata": {
    "collapsed": true
   },
   "outputs": [],
   "source": [
    "\n",
    "import numpy as np\n",
    "from tqdm.notebook import tqdm\n",
    "\n",
    "up_stable = np.load(\"stable.mp4.npy\") # label 1\n",
    "down_stable = np.load(\"legwork-up.MOV.npy\") # label 0\n",
    "\n",
    "up_stable = up_stable.reshape((-1,34))\n",
    "down_stable = down_stable.reshape((-1,34))\n",
    "\n",
    "X_data = np.concatenate((up_stable, down_stable))\n",
    "Y_data = np.zeros(up_stable.shape[0] + down_stable.shape[0], dtype=bool)\n",
    "Y_data[0:len(up_stable)] = 1\n"
   ]
  },
  {
   "cell_type": "code",
   "execution_count": 24,
   "outputs": [
    {
     "data": {
      "text/plain": "  0%|          | 0/2711 [00:00<?, ?it/s]",
      "application/vnd.jupyter.widget-view+json": {
       "version_major": 2,
       "version_minor": 0,
       "model_id": "1bbcd61cedf44b67a191c10bd89a5b22"
      }
     },
     "metadata": {},
     "output_type": "display_data"
    }
   ],
   "source": [
    "# degree augmentation\n",
    "new_X = []\n",
    "new_Y = []\n",
    "\n",
    "for x,y in tqdm(zip(X_data, Y_data), total=len(X_data)):\n",
    "\n",
    "    t = 0\n",
    "    while True:\n",
    "        theta = np.pi/5 - np.pi/14 * t\n",
    "        t+=1\n",
    "        if theta < - np.pi/5:\n",
    "            break\n",
    "        M = np.array([[np.cos(theta), -np.sin(theta)],\n",
    "        [np.sin(theta), np.cos(theta)]])\n",
    "        temp_coord_list = []\n",
    "        for coord_of_x in x.reshape(17,2):\n",
    "            temp_coord_list.append(np.matmul(M, coord_of_x))\n",
    "        new_X.append(np.array(temp_coord_list).reshape(34))\n",
    "        new_Y.append(y)\n",
    "\n",
    "X_data = np.array(new_X)\n",
    "Y_data = np.array(new_Y)\n",
    "\n",
    "\n"
   ],
   "metadata": {
    "collapsed": false,
    "pycharm": {
     "name": "#%%\n"
    }
   }
  },
  {
   "cell_type": "code",
   "execution_count": 25,
   "outputs": [],
   "source": [
    "from sklearn.model_selection import train_test_split\n",
    "\n",
    "\n",
    "\n",
    "X_train, X_test, y_train, y_test = train_test_split(X_data,\n",
    "                                                    Y_data,\n",
    "                                                    test_size=0.2,\n",
    "                                                    shuffle=True,\n",
    "                                                    random_state=1008)"
   ],
   "metadata": {
    "collapsed": false,
    "pycharm": {
     "name": "#%%\n"
    }
   }
  },
  {
   "cell_type": "code",
   "execution_count": 26,
   "outputs": [
    {
     "name": "stdout",
     "output_type": "stream",
     "text": [
      "array([[1077,    0],\n",
      "       [   0, 2177]])\n",
      "[-0.0064572]\n",
      "array([ 0.27395424,  0.19056958,  0.37826845,  0.16923755,  0.36954079,\n",
      "        0.08355617,  0.19621233,  0.12534303,  0.34382072, -0.08534732,\n",
      "       -0.22024501,  0.06042802, -0.12605909, -0.21088386, -0.66647873,\n",
      "       -0.0786242 ,  0.41105374, -0.54597065,  0.11992584,  0.08517378,\n",
      "        0.32553463,  0.14749978, -0.08684407, -0.12913078,  0.08684407,\n",
      "        0.12913078, -0.23627454, -0.58882022,  0.88215188,  2.16772089,\n",
      "        0.0334784 ,  0.574739  ,  0.5904212 ,  0.62181658])\n"
     ]
    }
   ],
   "source": [
    "from sklearn.metrics import confusion_matrix\n",
    "from pprint import pprint\n",
    "\n",
    "from sklearn.linear_model import LogisticRegressionCV\n",
    "\n",
    "cls = LogisticRegressionCV(cv=10, scoring='accuracy', solver='liblinear',\n",
    "                           max_iter=1000, class_weight='balanced',\n",
    "                           n_jobs=-1)\n",
    "\n",
    "cls.fit(X=X_train, y=y_train)\n",
    "pred = cls.predict(X_test)\n",
    "pprint(confusion_matrix(y_test, pred))\n",
    "\n",
    "\n",
    "print(cls.intercept_)\n",
    "pprint(cls.coef_[0])"
   ],
   "metadata": {
    "collapsed": false,
    "pycharm": {
     "name": "#%%\n"
    }
   }
  },
  {
   "cell_type": "code",
   "execution_count": 27,
   "outputs": [
    {
     "name": "stdout",
     "output_type": "stream",
     "text": [
      "2.4.1\n",
      "Epoch 1/20\n",
      "51/51 [==============================] - 0s 2ms/step - loss: 0.7062 - accuracy: 0.6643 - val_loss: 0.4963 - val_accuracy: 0.6896\b\b\b\b\b\b\b\b\b\b\b\b\b\b\b\b\b\b\b\b\b\b\b\b\b\b\b\b\b\b\b\b\b\b\b\b\n",
      "Epoch 2/20\n",
      "51/51 [==============================] - 0s 819us/step - loss: 0.4532 - accuracy: 0.7727 - val_loss: 0.3181 - val_accuracy: 0.9948\b\b\b\b\b\b\b\b\b\b\b\b\b\b\b\b\b\b\b\b\b\b\b\b\b\b\b\b\b\b\b\b\b\b\n",
      "Epoch 3/20\n",
      "51/51 [==============================] - 0s 845us/step - loss: 0.2805 - accuracy: 0.9963 - val_loss: 0.2026 - val_accuracy: 0.9988\b\b\b\b\b\b\b\b\b\b\b\b\b\b\b\b\b\b\b\b\b\b\b\b\b\b\b\b\b\b\b\b\b\b\n",
      "Epoch 4/20\n",
      "51/51 [==============================] - 0s 807us/step - loss: 0.1826 - accuracy: 0.9991 - val_loss: 0.1390 - val_accuracy: 0.9997\b\b\b\b\b\b\b\b\b\b\b\b\b\b\b\b\b\b\b\b\b\b\b\b\b\b\b\b\b\b\b\b\b\b\n",
      "Epoch 5/20\n",
      "51/51 [==============================] - 0s 959us/step - loss: 0.1282 - accuracy: 1.0000 - val_loss: 0.0982 - val_accuracy: 0.9997\b\b\b\b\b\b\b\b\b\b\b\b\b\b\b\b\b\b\b\b\b\b\b\b\b\b\b\b\b\b\b\b\b\b\n",
      "Epoch 6/20\n",
      "51/51 [==============================] - 0s 1ms/step - loss: 0.0901 - accuracy: 1.0000 - val_loss: 0.0720 - val_accuracy: 0.9997\b\b\b\b\b\b\b\b\b\b\b\b\b\b\b\b\b\b\b\b\b\b\b\b\b\b\b\b\b\b\b\b\b\b\b\b\n",
      "Epoch 7/20\n",
      "51/51 [==============================] - 0s 1ms/step - loss: 0.0667 - accuracy: 1.0000 - val_loss: 0.0547 - val_accuracy: 0.9997\b\b\b\b\b\b\b\b\b\b\b\b\b\b\b\b\b\b\b\b\b\b\b\b\b\b\b\b\b\b\b\b\b\b\b\b\n",
      "Epoch 8/20\n",
      "51/51 [==============================] - 0s 920us/step - loss: 0.0490 - accuracy: 0.9999 - val_loss: 0.0419 - val_accuracy: 0.9997\b\b\b\b\b\b\b\b\b\b\b\b\b\b\b\b\b\b\b\b\b\b\b\b\b\b\b\b\b\b\b\b\b\b\n",
      "Epoch 9/20\n",
      "51/51 [==============================] - 0s 741us/step - loss: 0.0382 - accuracy: 1.0000 - val_loss: 0.0330 - val_accuracy: 0.9997\b\b\b\b\b\b\b\b\b\b\b\b\b\b\b\b\b\b\b\b\b\b\b\b\b\b\b\b\b\b\b\b\b\b\n",
      "Epoch 10/20\n",
      "51/51 [==============================] - 0s 807us/step - loss: 0.0300 - accuracy: 1.0000 - val_loss: 0.0266 - val_accuracy: 0.9997\b\b\b\b\b\b\b\b\b\b\b\b\b\b\b\b\b\b\b\b\b\b\b\b\b\b\b\b\b\b\b\b\b\b\n",
      "Epoch 11/20\n",
      "51/51 [==============================] - 0s 866us/step - loss: 0.0249 - accuracy: 1.0000 - val_loss: 0.0220 - val_accuracy: 0.9997\b\b\b\b\b\b\b\b\b\b\b\b\b\b\b\b\b\b\b\b\b\b\b\b\b\b\b\b\b\b\b\b\b\b\n",
      "Epoch 12/20\n",
      "51/51 [==============================] - 0s 948us/step - loss: 0.0198 - accuracy: 1.0000 - val_loss: 0.0183 - val_accuracy: 1.0000\b\b\b\b\b\b\b\b\b\b\b\b\b\b\b\b\b\b\b\b\b\b\b\b\b\b\b\b\b\b\b\b\b\b\n",
      "Epoch 13/20\n",
      "51/51 [==============================] - 0s 891us/step - loss: 0.0164 - accuracy: 1.0000 - val_loss: 0.0154 - val_accuracy: 1.0000\b\b\b\b\b\b\b\b\b\b\b\b\b\b\b\b\b\b\b\b\b\b\b\b\b\b\b\b\b\b\b\b\b\b\n",
      "Epoch 14/20\n",
      "51/51 [==============================] - 0s 1ms/step - loss: 0.0139 - accuracy: 1.0000 - val_loss: 0.0133 - val_accuracy: 1.0000\b\b\b\b\b\b\b\b\b\b\b\b\b\b\b\b\b\b\b\b\b\b\b\b\b\b\b\b\b\b\b\b\b\b\b\b\n",
      "Epoch 15/20\n",
      "51/51 [==============================] - 0s 888us/step - loss: 0.0123 - accuracy: 1.0000 - val_loss: 0.0115 - val_accuracy: 1.0000\b\b\b\b\b\b\b\b\b\b\b\b\b\b\b\b\b\b\b\b\b\b\b\b\b\b\b\b\b\b\b\b\b\b\n",
      "Epoch 16/20\n",
      "51/51 [==============================] - 0s 827us/step - loss: 0.0104 - accuracy: 1.0000 - val_loss: 0.0101 - val_accuracy: 1.0000\b\b\b\b\b\b\b\b\b\b\b\b\b\b\b\b\b\b\b\b\b\b\b\b\b\b\b\b\b\b\b\b\b\b\n",
      "Epoch 17/20\n",
      "51/51 [==============================] - 0s 846us/step - loss: 0.0094 - accuracy: 1.0000 - val_loss: 0.0087 - val_accuracy: 1.0000\b\b\b\b\b\b\b\b\b\b\b\b\b\b\b\b\b\b\b\b\b\b\b\b\b\b\b\b\b\b\b\b\b\b\n",
      "Epoch 18/20\n",
      "51/51 [==============================] - 0s 843us/step - loss: 0.0081 - accuracy: 1.0000 - val_loss: 0.0078 - val_accuracy: 1.0000\b\b\b\b\b\b\b\b\b\b\b\b\b\b\b\b\b\b\b\b\b\b\b\b\b\b\b\b\b\b\b\b\b\b\n",
      "Epoch 19/20\n",
      "51/51 [==============================] - 0s 730us/step - loss: 0.0072 - accuracy: 1.0000 - val_loss: 0.0070 - val_accuracy: 1.0000\b\b\b\b\b\b\b\b\b\b\b\b\b\b\b\b\b\b\b\b\b\b\b\b\b\b\b\b\b\b\b\b\b\b\n",
      "Epoch 20/20\n",
      "51/51 [==============================] - 0s 832us/step - loss: 0.0062 - accuracy: 1.0000 - val_loss: 0.0062 - val_accuracy: 1.0000\b\b\b\b\b\b\b\b\b\b\b\b\b\b\b\b\b\b\b\b\b\b\b\b\b\b\b\b\b\b\b\b\b\b\n"
     ]
    },
    {
     "data": {
      "text/plain": "<Figure size 432x288 with 1 Axes>",
      "image/png": "[encoded data removed]"
     },
     "metadata": {
      "needs_background": "light"
     },
     "output_type": "display_data"
    }
   ],
   "source": [
    "%matplotlib inline\n",
    "\n",
    "# tensorflow와 tf.keras를 임포트합니다\n",
    "import tensorflow as tf\n",
    "from tensorflow import keras\n",
    "\n",
    "\n",
    "import matplotlib.pyplot as plt\n",
    "\n",
    "print(tf.__version__)\n",
    "\n",
    "model = keras.Sequential([\n",
    "    keras.layers.Dense(15, activation='relu'),\n",
    "    keras.layers.Dense(1, activation='sigmoid')\n",
    "])\n",
    "\n",
    "model.compile(optimizer='adam', loss='binary_crossentropy', metrics =['accuracy'])\n",
    "\n",
    "history = model.fit(X_train, y_train, epochs=20,\n",
    "                    batch_size=256, validation_data=(X_test,y_test))\n",
    "history_dic = history.history\n",
    "history_dic.keys()\n",
    "\n",
    "\n",
    "history_dic = history.history\n",
    "loss = history_dic['loss']\n",
    "val_loss = history_dic['val_loss']\n",
    "\n",
    "epochs = range(1, len(loss)+1)\n",
    "plt.plot(epochs, loss, 'bo', label = 'Training loss')\n",
    "plt.plot(epochs, val_loss, 'b', label = 'validation loss')\n",
    "plt.title('Training and validation loss')\n",
    "plt.xlabel('Epochs')\n",
    "plt.ylabel('Loss')\n",
    "plt.legend()\n",
    "plt.show()\n"
   ],
   "metadata": {
    "collapsed": false,
    "pycharm": {
     "name": "#%%\n"
    }
   }
  },
  {
   "cell_type": "code",
   "execution_count": 28,
   "outputs": [
    {
     "name": "stdout",
     "output_type": "stream",
     "text": [
      "array([[1077,    0],\n",
      "       [   0, 2177]])\n"
     ]
    }
   ],
   "source": [
    "pred = model.predict(X_test)\n",
    "pred[np.where(pred<0.5)] = 0\n",
    "pred[np.where(pred>=0.5)] = 1\n",
    "pred = pred.astype(np.bool).reshape(pred.shape[0])\n",
    "y_test\n",
    "\n",
    "pprint(confusion_matrix(y_test, pred))"
   ],
   "metadata": {
    "collapsed": false,
    "pycharm": {
     "name": "#%%\n"
    }
   }
  },
  {
   "cell_type": "code",
   "execution_count": 29,
   "outputs": [
    {
     "name": "stdout",
     "output_type": "stream",
     "text": [
      "INFO:tensorflow:Assets written to: /tmp/tmp1gtay0p9/assets\n"
     ]
    },
    {
     "name": "stderr",
     "output_type": "stream",
     "text": [
      "INFO:tensorflow:Assets written to: /tmp/tmp1gtay0p9/assets\n"
     ]
    }
   ],
   "source": [
    "converter = tf.lite.TFLiteConverter.from_keras_model(model)\n",
    "tflite_model = converter.convert()\n",
    "\n",
    "# Save the model.\n",
    "with open('legwork-model.tflite', 'wb') as f:\n",
    "  f.write(tflite_model)"
   ],
   "metadata": {
    "collapsed": false,
    "pycharm": {
     "name": "#%%\n"
    }
   }
  }
 ],
 "metadata": {
  "kernelspec": {
   "display_name": "Python 3",
   "language": "python",
   "name": "python3"
  },
  "language_info": {
   "codemirror_mode": {
    "name": "ipython",
    "version": 2
   },
   "file_extension": ".py",
   "mimetype": "text/x-python",
   "name": "python",
   "nbconvert_exporter": "python",
   "pygments_lexer": "ipython2",
   "version": "2.7.6"
  }
 },
 "nbformat": 4,
 "nbformat_minor": 0
}